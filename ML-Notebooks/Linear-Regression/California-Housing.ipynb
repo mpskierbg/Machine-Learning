{
 "cells": [
  {
   "cell_type": "code",
   "execution_count": 6,
   "id": "90e33ce5",
   "metadata": {},
   "outputs": [
    {
     "name": "stdout",
     "output_type": "stream",
     "text": [
      "Training complete!\n",
      "\n",
      "--- Model Evaluation ---\n",
      "Mean Squared Error: 0.56\n",
      "R-Squared Score: 0.58\n",
      "\n",
      "--- Sample Predictions ---\n",
      "       Actual Price  Predicted Price\n",
      "20046       0.47700         0.719123\n",
      "3024        0.45800         1.764017\n",
      "15663       5.00001         2.709659\n",
      "20484       2.18600         2.838926\n",
      "9814        2.78000         2.604657\n"
     ]
    }
   ],
   "source": [
    "from sklearn.datasets import fetch_california_housing\n",
    "import pandas as pd\n",
    "from sklearn.model_selection import train_test_split\n",
    "from sklearn.linear_model import LinearRegression\n",
    "from sklearn.metrics import mean_squared_error, r2_score\n",
    "\n",
    "# Fetch the dataset and load it as a pandas dataframe\n",
    "housing = fetch_california_housing(as_frame=True)\n",
    "\n",
    "# Split dataset\n",
    "X = housing.data\n",
    "y = housing.target\n",
    "X_train, X_test, y_train, y_test = train_test_split(\n",
    "    X, y, test_size=0.2, random_state=42\n",
    ")\n",
    "\n",
    "# Import and instantiate model\n",
    "model = LinearRegression()\n",
    "\n",
    "# Fit the model to the training data\n",
    "model.fit(X_train, y_train)\n",
    "\n",
    "print(\"Training complete!\")\n",
    "\n",
    "# Make predictions on the unseen test data\n",
    "y_pred = model.predict(X_test)\n",
    "\n",
    "# Evaluate the model's performance\n",
    "mse = mean_squared_error(y_test, y_pred)\n",
    "r2 = r2_score(y_test, y_pred)\n",
    "\n",
    "print(\"\\n--- Model Evaluation ---\")\n",
    "print(f\"Mean Squared Error: {mse:.2f}\")\n",
    "print(f\"R-Squared Score: {r2:.2f}\")\n",
    "\n",
    "print(\"\\n--- Sample Predictions ---\")\n",
    "predictions_df = pd.DataFrame({'Actual Price': y_test, 'Predicted Price': y_pred})\n",
    "print(predictions_df.head())"
   ]
  }
 ],
 "metadata": {
  "kernelspec": {
   "display_name": "base",
   "language": "python",
   "name": "python3"
  },
  "language_info": {
   "codemirror_mode": {
    "name": "ipython",
    "version": 3
   },
   "file_extension": ".py",
   "mimetype": "text/x-python",
   "name": "python",
   "nbconvert_exporter": "python",
   "pygments_lexer": "ipython3",
   "version": "3.13.5"
  }
 },
 "nbformat": 4,
 "nbformat_minor": 5
}
