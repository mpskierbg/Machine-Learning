{
 "cells": [
  {
   "cell_type": "code",
   "execution_count": 1,
   "id": "257d223b-339d-4d25-b07b-0be8736257f5",
   "metadata": {},
   "outputs": [
    {
     "name": "stdout",
     "output_type": "stream",
     "text": [
      "Training the Decision Tree Model...\n",
      "Training complete.\n",
      "------------------------------\n",
      "Model Predictions on Test Data: [1 0 2 1 1 0 1 2 1 1 2 0 0 0 0 1 2 1 1 2 0 2 0 2 2 2 2 2 0 0]\n",
      "True Species of Test Data:    [1 0 2 1 1 0 1 2 1 1 2 0 0 0 0 1 2 1 1 2 0 2 0 2 2 2 2 2 0 0]\n",
      "Calculated Accuracy:          100.00%\n",
      "------------------------------\n"
     ]
    }
   ],
   "source": [
    "# 1. Import Libraries\n",
    "import pandas as pd\n",
    "from sklearn.datasets import load_iris\n",
    "from sklearn.model_selection import train_test_split\n",
    "from sklearn.tree import DecisionTreeClassifier\n",
    "from sklearn.metrics import accuracy_score\n",
    "\n",
    "# 2. Load Data\n",
    "iris = load_iris()\n",
    "X = iris.data    # The features (sepal length, petal width, etc.)\n",
    "y = iris.target  # The target (the flower species: 0, 1, or 2)\n",
    "\n",
    "# 3. Split the Data (The Crucial Step!)\n",
    "# We use 80% for training and 20% for testing.\n",
    "X_train, X_test, y_train, y_test = train_test_split(\n",
    "    X, y, test_size=0.2, random_state=42\n",
    ")\n",
    "\n",
    "# 4. Initialize and Train the Model\n",
    "model = DecisionTreeClassifier(random_state=42)\n",
    "print(\"Training the Decision Tree Model...\")\n",
    "model.fit(X_train, y_train)\n",
    "print(\"Training complete.\")\n",
    "\n",
    "# 5. Make Predictions\n",
    "y_pred = model.predict(X_test)\n",
    "\n",
    "# 6. Evaluate the Model\n",
    "accuracy = accuracy_score(y_test, y_pred)\n",
    "\n",
    "print(\"-\" * 30)\n",
    "print(f\"Model Predictions on Test Data: {y_pred}\")\n",
    "print(f\"True Species of Test Data:    {y_test}\")\n",
    "print(f\"Calculated Accuracy:          {accuracy * 100:.2f}%\")\n",
    "print(\"-\" * 30)"
   ]
  },
  {
   "cell_type": "code",
   "execution_count": null,
   "id": "ceaf3959-f4f6-4455-9def-6f9608709e3e",
   "metadata": {},
   "outputs": [],
   "source": []
  }
 ],
 "metadata": {
  "kernelspec": {
   "display_name": "Python 3 (ipykernel)",
   "language": "python",
   "name": "python3"
  },
  "language_info": {
   "codemirror_mode": {
    "name": "ipython",
    "version": 3
   },
   "file_extension": ".py",
   "mimetype": "text/x-python",
   "name": "python",
   "nbconvert_exporter": "python",
   "pygments_lexer": "ipython3",
   "version": "3.13.5"
  }
 },
 "nbformat": 4,
 "nbformat_minor": 5
}
