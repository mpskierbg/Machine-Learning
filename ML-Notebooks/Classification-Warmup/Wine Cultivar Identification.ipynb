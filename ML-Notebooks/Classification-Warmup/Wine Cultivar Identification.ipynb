{
 "cells": [
  {
   "cell_type": "code",
   "execution_count": 2,
   "id": "cea3083a",
   "metadata": {},
   "outputs": [
    {
     "name": "stdout",
     "output_type": "stream",
     "text": [
      "------------------------------\n",
      "Model Predictions on Test Data: [0 0 2 0 1 0 1 2 1 2 0 2 0 1 0 1 1 1 0 1 0 1 1 2 2 2 1 1 1 0 0 1 2 0 0 0]\n",
      "True Diagnosis of Test Data:    [0 0 2 0 1 0 1 2 1 2 0 2 0 1 0 1 1 1 0 1 0 1 1 2 2 2 1 1 1 0 0 1 2 0 0 0]\n",
      "SVM Accuracy on WINE Data: 100.00%\n",
      "------------------------------\n"
     ]
    }
   ],
   "source": [
    "import pandas as pd\n",
    "from sklearn.datasets import load_wine\n",
    "from sklearn.model_selection import train_test_split\n",
    "from sklearn.svm import SVC\n",
    "from sklearn.metrics import accuracy_score\n",
    "from sklearn.preprocessing import StandardScaler\n",
    "\n",
    "# Load Data\n",
    "wine = load_wine()\n",
    "X = wine.data \n",
    "y = wine.target \n",
    "\n",
    "# Split the Data (The Crucial Step!)\n",
    "# We use 80% for training and 20% for testing.\n",
    "X_train, X_test, y_train, y_test = train_test_split(\n",
    "    X, y, test_size=0.2, random_state=42\n",
    ")\n",
    "\n",
    "#Initialize the Scaler\n",
    "scaler = StandardScaler()\n",
    "\n",
    "# Fit the Scaler (LEARN the min/max from the training data only)\n",
    "scaler.fit(X_train) \n",
    "\n",
    "# Transform the Data (Apply the learned scaling to both sets)\n",
    "X_train_scaled = scaler.transform(X_train)\n",
    "X_test_scaled = scaler.transform(X_test)\n",
    "\n",
    "# Train the model using the SCALED training data\n",
    "model = SVC(random_state=42)\n",
    "model.fit(X_train_scaled, y_train) \n",
    "\n",
    "# Predict using the SCALED test data\n",
    "y_pred = model.predict(X_test_scaled)\n",
    "\n",
    "# Evaluate\n",
    "accuracy = accuracy_score(y_test, y_pred)\n",
    "\n",
    "print(\"-\" * 30)\n",
    "print(f\"Model Predictions on Test Data: {y_pred}\")\n",
    "print(f\"True Diagnosis of Test Data:    {y_test}\")\n",
    "print(f\"SVM Accuracy on WINE Data: {accuracy * 100:.2f}%\")\n",
    "print(\"-\" * 30)\n"
   ]
  },
  {
   "cell_type": "code",
   "execution_count": null,
   "id": "a292388b-c6b8-4cce-bd32-3cc00afe3731",
   "metadata": {},
   "outputs": [],
   "source": []
  }
 ],
 "metadata": {
  "kernelspec": {
   "display_name": "Python 3 (ipykernel)",
   "language": "python",
   "name": "python3"
  },
  "language_info": {
   "codemirror_mode": {
    "name": "ipython",
    "version": 3
   },
   "file_extension": ".py",
   "mimetype": "text/x-python",
   "name": "python",
   "nbconvert_exporter": "python",
   "pygments_lexer": "ipython3",
   "version": "3.13.5"
  }
 },
 "nbformat": 4,
 "nbformat_minor": 5
}
