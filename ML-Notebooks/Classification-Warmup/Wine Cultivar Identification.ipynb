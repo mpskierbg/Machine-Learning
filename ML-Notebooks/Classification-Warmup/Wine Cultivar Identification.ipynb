{
 "cells": [
  {
   "cell_type": "code",
   "execution_count": null,
   "id": "cea3083a",
   "metadata": {},
   "outputs": [],
   "source": [
    "import pandas as pd\n",
    "from sklearn.datasets import load_wine\n",
    "from sklearn.model_selection import train_test_split\n",
    "from sklearn.svm import SVC\n",
    "from sklearn.metrics import accuracy_score\n",
    "from sklearn.preprocessing import StandardScaler\n",
    "\n",
    "# Load Data\n",
    "wine = load_wine()\n",
    "X = wine.data \n",
    "y = wine.target \n",
    "\n",
    "# Split the Data (The Crucial Step!)\n",
    "# We use 80% for training and 20% for testing.\n",
    "X_train, X_test, y_train, y_test = train_test_split(\n",
    "    X, y, test_size=0.2, random_state=42\n",
    ")\n",
    "\n",
    "#Initialize the Scaler\n",
    "scaler = StandardScaler()\n",
    "\n",
    "# Fit the Scaler (LEARN the min/max from the training data only)\n",
    "scaler.fit(X_train) \n",
    "\n",
    "# Transform the Data (Apply the learned scaling to both sets)\n",
    "X_train_scaled = scaler.transform(X_train)\n",
    "X_test_scaled = scaler.transform(X_test)\n",
    "\n",
    "# Train the model using the SCALED training data\n",
    "model = SVC(random_state=42)\n",
    "model.fit(X_train_scaled, y_train) \n",
    "\n",
    "# Predict using the SCALED test data\n",
    "y_pred = model.predict(X_test_scaled)\n",
    "\n",
    "# Evaluate\n",
    "accuracy = accuracy_score(y_test, y_pred)\n",
    "\n",
    "print(f\"SVM Accuracy on WINE Data: {accuracy * 100:.2f}%\")"
   ]
  }
 ],
 "metadata": {
  "language_info": {
   "name": "python"
  }
 },
 "nbformat": 4,
 "nbformat_minor": 5
}
