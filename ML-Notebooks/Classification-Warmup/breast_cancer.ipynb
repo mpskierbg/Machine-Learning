{
 "cells": [
  {
   "cell_type": "code",
   "execution_count": null,
   "id": "c392c58a-f8e5-493c-9666-be3214b6470e",
   "metadata": {},
   "outputs": [],
   "source": [
    "# 1. Import Libraries\n",
    "import pandas as pd\n",
    "from sklearn.datasets import load_breast_cancer\n",
    "from sklearn.model_selection import train_test_split\n",
    "from sklearn.neighbors import KNeighborsClassifier\n",
    "from sklearn.metrics import accuracy_score\n",
    "import os\n",
    "# Replace '8' with your actual logical core count\n",
    "os.environ['LOKY_MAX_CPU_COUNT'] = '8' \n",
    "\n",
    "# 2. Load Data\n",
    "cancer = load_breast_cancer()\n",
    "X = cancer.data    # The features (e.g., radius, texture, perimeter)\n",
    "y = cancer.target  # The target (0 for Malignant, 1 for Benign)\n",
    "\n",
    "# 3. Split the Data (The Crucial Step!)\n",
    "# We use 80% for training and 20% for testing.\n",
    "X_train, X_test, y_train, y_test = train_test_split(\n",
    "    X, y, test_size=0.2, random_state=42\n",
    ")\n",
    "\n",
    "# 4. Initialize and Train the Model\n",
    "model = KNeighborsClassifier(n_neighbors=20)\n",
    "print(\"Training the Decision Tree Model...\")\n",
    "model.fit(X_train, y_train)\n",
    "print(\"Training complete.\")\n",
    "\n",
    "# 5. Make Predictions\n",
    "y_pred = model.predict(X_test)\n",
    "\n",
    "# 6. Evaluate the Model\n",
    "accuracy = accuracy_score(y_test, y_pred)\n",
    "\n",
    "print(\"-\" * 30)\n",
    "print(f\"Model Predictions on Test Data: {y_pred}\")\n",
    "print(f\"True Diagnosis of Test Data:    {y_test}\")\n",
    "print(f\"Calculated Accuracy:          {accuracy * 100:.2f}%\")\n",
    "print(\"-\" * 30)"
   ]
  }
 ],
 "metadata": {
  "kernelspec": {
   "display_name": "Python 3 (ipykernel)",
   "language": "python",
   "name": "python3"
  },
  "language_info": {
   "codemirror_mode": {
    "name": "ipython",
    "version": 3
   },
   "file_extension": ".py",
   "mimetype": "text/x-python",
   "name": "python",
   "nbconvert_exporter": "python",
   "pygments_lexer": "ipython3",
   "version": "3.13.5"
  }
 },
 "nbformat": 4,
 "nbformat_minor": 5
}
